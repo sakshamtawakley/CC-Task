{
  "nbformat": 4,
  "nbformat_minor": 0,
  "metadata": {
    "colab": {
      "provenance": [],
      "authorship_tag": "ABX9TyMvQEeKUnJbIsDGktYC4jPU",
      "include_colab_link": true
    },
    "kernelspec": {
      "name": "python3",
      "display_name": "Python 3"
    },
    "language_info": {
      "name": "python"
    }
  },
  "cells": [
    {
      "cell_type": "markdown",
      "metadata": {
        "id": "view-in-github",
        "colab_type": "text"
      },
      "source": [
        "<a href=\"https://colab.research.google.com/github/sakshamtawakley/CC-Task/blob/main/cc_task.ipynb\" target=\"_parent\"><img src=\"https://colab.research.google.com/assets/colab-badge.svg\" alt=\"Open In Colab\"/></a>"
      ]
    },
    {
      "cell_type": "code",
      "execution_count": 14,
      "metadata": {
        "collapsed": true,
        "id": "8d5Flbag9Q6g"
      },
      "outputs": [],
      "source": [
        "import pandas\n",
        "import re\n",
        "with open(\"timetable.log\", \"r\") as f:\n",
        "        log_data = f.readlines()\n"
      ]
    },
    {
      "cell_type": "code",
      "source": [
        "parsed_data=[]\n",
        "total_api=0\n",
        "end_point_section=0\n",
        "end_point_courses=0\n",
        "sum_endpoint_courses=0\n",
        "sum_endpoint_section=0\n",
        "max_endpoint_courses=0\n",
        "max_endpoint_section=0\n",
        "status_codes_200=0\n",
        "status_codes_403=0\n",
        "status_codes_404=0\n",
        "heuristic=0\n",
        "iterative=0\n",
        "num_timetables=0\n",
        "num_timetables_gen=0"
      ],
      "metadata": {
        "collapsed": true,
        "id": "POerePGq-pR9"
      },
      "execution_count": 15,
      "outputs": []
    },
    {
      "cell_type": "code",
      "source": [
        "pattern_user = re.compile(\n",
        "    r\"(?P<date>\\d{4}/\\d{2}/\\d{2}) (?P<time>\\d{2}:\\d{2}:\\d{2}) \"\n",
        "    r\"\\[(?P<ip>[^\\]]+)\\] router: (?P<path>\\S+)(?: \\[(?P<user_id>[^\\]]+)\\])?\"\n",
        ")\n",
        "\n",
        "pattern_http = re.compile(\n",
        "    r\"(?P<date>\\d{4}/\\d{2}/\\d{2}) (?P<time>\\d{2}:\\d{2}:\\d{2}) \"\n",
        "    r\"\\[(?P<ip>[^\\]]+)\\] (?P<method>\\S+) (?P<path>\\S+) \"\n",
        "    r\"(?P<status>\\d+) (?P<duration>[\\d\\.]+(?:µs|ms))\"\n",
        ")\n",
        "\n",
        "pattern_msg = re.compile(\n",
        "    r\"(?P<date>\\d{4}/\\d{2}/\\d{2}) (?P<time>\\d{2}:\\d{2}:\\d{2}) \"\n",
        "    r\"\\[(?P<ip>[^\\]]+)\\] --- (?P<message>.+) ---\"\n",
        ")\n",
        "pattern_generating=re.compile(r\"Found (\\d+) timetables\")"
      ],
      "metadata": {
        "id": "Id78yIpSGi01"
      },
      "execution_count": 16,
      "outputs": []
    },
    {
      "cell_type": "code",
      "source": [
        "def string_to_time (s):\n",
        "                if s.endswith(\"µs\"):\n",
        "                  return float(s.replace(\"µs\", \"\")) * 1e-6\n",
        "                elif s.endswith(\"ms\"):\n",
        "                  return float(s.replace(\"ms\", \"\")) * 1e-3\n",
        "                elif s.endswith(\"s\"):\n",
        "                 return float(s.replace(\"s\", \"\"))"
      ],
      "metadata": {
        "id": "s_SO4RNJzj4T"
      },
      "execution_count": 17,
      "outputs": []
    },
    {
      "cell_type": "code",
      "source": [
        "id_2022=[]\n",
        "id_2023=[]\n",
        "id_2024=[]\n",
        "id_2025=[]\n",
        "#2024A*PS0660P\n",
        "def search(user_id):\n",
        "  if user_id is None:\n",
        "    return\n",
        "  if user_id[:4]==\"2022\":\n",
        "    for i in id_2022:\n",
        "      if user_id[8:12]==i[8:12]:\n",
        "        return\n",
        "    id_2022.append(user_id)\n",
        "    return\n",
        "  elif user_id[:4]==\"2023\":\n",
        "    for i in id_2023:\n",
        "      if user_id[8:12]==i[8:12]:\n",
        "        return\n",
        "    id_2023.append(user_id)\n",
        "    return\n",
        "  elif user_id[:4]==\"2024\":\n",
        "    for i in id_2024:\n",
        "      if user_id[8:12]==i[8:12]:\n",
        "        return\n",
        "    id_2024.append(user_id)\n",
        "    return\n",
        "  elif user_id[:4]==\"2025\":\n",
        "    for i in id_2025:\n",
        "      if user_id[8:12]==i[8:12]:\n",
        "        return\n",
        "    id_2025.append(user_id)\n",
        "    return\n"
      ],
      "metadata": {
        "id": "JG3GaELUoHo5"
      },
      "execution_count": 20,
      "outputs": []
    },
    {
      "cell_type": "code",
      "source": [
        "for i in log_data:\n",
        "  i=i.strip()\n",
        "  m1 = pattern_http.match(i)\n",
        "  m2 = pattern_user.match(i)\n",
        "  m3 = pattern_msg.match(i)\n",
        "  m4 = pattern_generating.match(i)\n",
        "  if m1:\n",
        "            total_api=total_api+1\n",
        "            val=string_to_time(m1[\"duration\"]) # Use m1[\"duration\"] here\n",
        "            if m1[\"path\"] == \"/courses\":\n",
        "                end_point_courses=end_point_courses+1\n",
        "                if val is not None: # Check if val is not None\n",
        "                  sum_endpoint_courses+=val\n",
        "                  max_endpoint_courses=max(max_endpoint_courses, val)\n",
        "            elif m1[\"path\"] == \"/sections\":\n",
        "                end_point_section=end_point_section+1 # Corrected variable name\n",
        "                if val is not None: # Check if val is not None\n",
        "                  sum_endpoint_section+=val\n",
        "                  max_endpoint_section=max(max_endpoint_section, val)\n",
        "\n",
        "            if int(m1[\"status\"])==200:\n",
        "                status_codes_200+=1\n",
        "            elif int(m1[\"status\"])==403:\n",
        "                status_codes_403+=1\n",
        "            elif int(m1[\"status\"])==404:\n",
        "                status_codes_404+=1\n",
        "            parsed_data.append({\n",
        "                \"date\": m1[\"date\"],\n",
        "                \"time\": val,\n",
        "                \"ip\": m1[\"ip\"],\n",
        "                \"method\": m1[\"method\"],\n",
        "                \"path\": m1[\"path\"],\n",
        "                \"status\": int(m1[\"status\"]),\n",
        "                \"duration\": m1[\"duration\"],\n",
        "                \"user_id\": None,\n",
        "                \"message\": None\n",
        "            })\n",
        "  elif m2:\n",
        "            total_api=total_api+1\n",
        "            val=string_to_time(m2[\"time\"])\n",
        "            if m2[\"path\"] == \"/courses\":\n",
        "                end_point_courses+=1\n",
        "                if val is not None:\n",
        "                  sum_endpoint_courses+=val\n",
        "                  max_endpoint_courses=max(max_endpoint_courses, val)\n",
        "            elif m2[\"path\"] == \"/sections\":\n",
        "                end_point_section=end_point_section+1\n",
        "                if val is not None:\n",
        "                  sum_endpoint_section+=val\n",
        "                  max_endpoint_sectiom=max(max_endpoint_sectiom, val)\n",
        "            search(m2[\"user_id\"])\n",
        "            parsed_data.append({\n",
        "                \"date\": m2[\"date\"],\n",
        "                \"time\": val,\n",
        "                \"ip\": m2[\"ip\"],\n",
        "                \"method\": None,\n",
        "                \"path\": m2[\"path\"],\n",
        "                \"status\": None,\n",
        "                \"duration\": None,\n",
        "                \"user_id\": m2[\"user_id\"],\n",
        "                \"message\": None\n",
        "            })\n",
        "  elif m4: #Using H\n",
        "            if (m3[\"message\"][:7]==\"Using H\"):\n",
        "              heuristic+=1\n",
        "            if (m3[\"message\"][:7]==\"Using I\"):\n",
        "              iterative+=1\n",
        "            parsed_data.append({\n",
        "                \"date\": m3[\"date\"],\n",
        "                \"time\": m3[\"time\"],\n",
        "                \"ip\": m3[\"ip\"],\n",
        "                \"method\": None,\n",
        "                \"path\": None,\n",
        "                \"status\": None,\n",
        "                \"duration\": None,\n",
        "                \"user_id\": None,\n",
        "                \"message\": m3[\"message\"]\n",
        "            })\n",
        "  elif m4:\n",
        "    num_timetables_gen += int(i.group(1))\n",
        "    num_timetables+=1\n",
        "    parsed_data.append({\n",
        "                \"date\": m3[\"date\"],\n",
        "                \"time\": m3[\"time\"],\n",
        "                \"ip\": m3[\"ip\"],\n",
        "                \"method\": None,\n",
        "                \"path\": None,\n",
        "                \"status\": None,\n",
        "                \"duration\": None,\n",
        "                \"user_id\": None,\n",
        "                \"message\": m3[\"message\"]\n",
        "            })\n",
        "  else:\n",
        "         #other lines\n",
        "            parsed_data.append({\n",
        "                \"date\": None, \"time\": None, \"ip\": None,\n",
        "                \"method\": None, \"path\": None, \"status\": None,\n",
        "                \"duration\": None, \"user_id\": None, \"message\": i\n",
        "            })\n",
        "parsed_data"
      ],
      "metadata": {
        "colab": {
          "base_uri": "https://localhost:8080/",
          "height": 211
        },
        "collapsed": true,
        "id": "LhXCwRrBAUCv",
        "outputId": "cacde39e-a541-411d-fb86-da584a6477dc"
      },
      "execution_count": 25,
      "outputs": [
        {
          "output_type": "error",
          "ename": "AttributeError",
          "evalue": "'str' object has no attribute 'group'",
          "traceback": [
            "\u001b[0;31m---------------------------------------------------------------------------\u001b[0m",
            "\u001b[0;31mAttributeError\u001b[0m                            Traceback (most recent call last)",
            "\u001b[0;32m/tmp/ipython-input-3658814940.py\u001b[0m in \u001b[0;36m<cell line: 0>\u001b[0;34m()\u001b[0m\n\u001b[1;32m     69\u001b[0m               \u001b[0miterative\u001b[0m\u001b[0;34m+=\u001b[0m\u001b[0;36m1\u001b[0m\u001b[0;34m\u001b[0m\u001b[0;34m\u001b[0m\u001b[0m\n\u001b[1;32m     70\u001b[0m     \u001b[0;32melse\u001b[0m\u001b[0;34m:\u001b[0m\u001b[0;34m\u001b[0m\u001b[0;34m\u001b[0m\u001b[0m\n\u001b[0;32m---> 71\u001b[0;31m       \u001b[0mnum_timetables_gen\u001b[0m \u001b[0;34m+=\u001b[0m \u001b[0mint\u001b[0m\u001b[0;34m(\u001b[0m\u001b[0mi\u001b[0m\u001b[0;34m.\u001b[0m\u001b[0mgroup\u001b[0m\u001b[0;34m(\u001b[0m\u001b[0;36m1\u001b[0m\u001b[0;34m)\u001b[0m\u001b[0;34m)\u001b[0m\u001b[0;34m\u001b[0m\u001b[0;34m\u001b[0m\u001b[0m\n\u001b[0m\u001b[1;32m     72\u001b[0m       \u001b[0mnum_timetables\u001b[0m\u001b[0;34m+=\u001b[0m\u001b[0;36m1\u001b[0m\u001b[0;34m\u001b[0m\u001b[0;34m\u001b[0m\u001b[0m\n\u001b[1;32m     73\u001b[0m     parsed_data.append({\n",
            "\u001b[0;31mAttributeError\u001b[0m: 'str' object has no attribute 'group'"
          ]
        }
      ]
    },
    {
      "cell_type": "code",
      "source": [
        "print(\"The no. of total api calls is: \",total_api)\n",
        "print(\"End point /section: \",end_point_section)\n",
        "print(\"End point /courses: \",end_point_courses)\n",
        "print(\"Having status code 200: \",status_codes_200)\n",
        "print(\"Having status code 403: \",status_codes_403)\n",
        "print(\"Having status code 404: \",status_codes_404)\n",
        "print(\"Heuristic time tables generated: \",heuristic)\n",
        "print(\"Iterative time tables generated: \",iterative)\n",
        "print(\"Average time taken for /section endpoints: \",sum_endpoint_section/end_point_section)\n",
        "print(\"Average time taken for /courses endpoints: \",sum_endpoint_courses/end_point_courses)\n",
        "print(\"Max time taken for /courses: \",max_endpoint_courses)\n",
        "print(\"Max time taken for /sections: \",max_endpoint_section)\n",
        "print(\"Number of timetables generated: \",num_timetables_gen)\n",
        "print(\"Avg. Number of timetables generated: \",num_timetables_gen/num_timetables)\n",
        "print(\"Number of students in 2022: \",len(id_2022))\n",
        "print(\"Number of students in 2023: \",len(id_2023))\n",
        "print(\"Number of students in 2024: \",len(id_2024))\n",
        "print(\"Number of students in 2025: \",len(id_2025))\n"
      ],
      "metadata": {
        "collapsed": true,
        "colab": {
          "base_uri": "https://localhost:8080/",
          "height": 436
        },
        "id": "0eWjUFqH0VsT",
        "outputId": "c3ebd6f0-a962-4538-d197-bc2065466107"
      },
      "execution_count": 24,
      "outputs": [
        {
          "output_type": "stream",
          "name": "stdout",
          "text": [
            "The no. of total api calls is:  291402\n",
            "End point /section:  104180\n",
            "End point /courses:  156010\n",
            "Having status code 200:  121621\n",
            "Having status code 403:  960\n",
            "Having status code 404:  10\n",
            "Heuristic time tables generated:  7612\n",
            "Iterative time tables generated:  812\n",
            "Average time taken for /section endpoints:  6.275128732962172e-05\n",
            "Average time taken for /courses endpoints:  0.00018628552156913105\n",
            "Max time taken for /courses:  0.009135005\n",
            "Max time taken for /sections:  0.004969586\n",
            "Number of timetables generated:  0\n"
          ]
        },
        {
          "output_type": "error",
          "ename": "ZeroDivisionError",
          "evalue": "division by zero",
          "traceback": [
            "\u001b[0;31m---------------------------------------------------------------------------\u001b[0m",
            "\u001b[0;31mZeroDivisionError\u001b[0m                         Traceback (most recent call last)",
            "\u001b[0;32m/tmp/ipython-input-20403604.py\u001b[0m in \u001b[0;36m<cell line: 0>\u001b[0;34m()\u001b[0m\n\u001b[1;32m     12\u001b[0m \u001b[0mprint\u001b[0m\u001b[0;34m(\u001b[0m\u001b[0;34m\"Max time taken for /sections: \"\u001b[0m\u001b[0;34m,\u001b[0m\u001b[0mmax_endpoint_section\u001b[0m\u001b[0;34m)\u001b[0m\u001b[0;34m\u001b[0m\u001b[0;34m\u001b[0m\u001b[0m\n\u001b[1;32m     13\u001b[0m \u001b[0mprint\u001b[0m\u001b[0;34m(\u001b[0m\u001b[0;34m\"Number of timetables generated: \"\u001b[0m\u001b[0;34m,\u001b[0m\u001b[0mnum_timetables_gen\u001b[0m\u001b[0;34m)\u001b[0m\u001b[0;34m\u001b[0m\u001b[0;34m\u001b[0m\u001b[0m\n\u001b[0;32m---> 14\u001b[0;31m \u001b[0mprint\u001b[0m\u001b[0;34m(\u001b[0m\u001b[0;34m\"Avg. Number of timetables generated: \"\u001b[0m\u001b[0;34m,\u001b[0m\u001b[0mnum_timetables_gen\u001b[0m\u001b[0;34m/\u001b[0m\u001b[0mnum_timetables\u001b[0m\u001b[0;34m)\u001b[0m\u001b[0;34m\u001b[0m\u001b[0;34m\u001b[0m\u001b[0m\n\u001b[0m\u001b[1;32m     15\u001b[0m \u001b[0mprint\u001b[0m\u001b[0;34m(\u001b[0m\u001b[0;34m\"Number of students in 2022: \"\u001b[0m\u001b[0;34m,\u001b[0m\u001b[0mlen\u001b[0m\u001b[0;34m(\u001b[0m\u001b[0mid_2022\u001b[0m\u001b[0;34m)\u001b[0m\u001b[0;34m)\u001b[0m\u001b[0;34m\u001b[0m\u001b[0;34m\u001b[0m\u001b[0m\n\u001b[1;32m     16\u001b[0m \u001b[0mprint\u001b[0m\u001b[0;34m(\u001b[0m\u001b[0;34m\"Number of students in 2023: \"\u001b[0m\u001b[0;34m,\u001b[0m\u001b[0mlen\u001b[0m\u001b[0;34m(\u001b[0m\u001b[0mid_2023\u001b[0m\u001b[0;34m)\u001b[0m\u001b[0;34m)\u001b[0m\u001b[0;34m\u001b[0m\u001b[0;34m\u001b[0m\u001b[0m\n",
            "\u001b[0;31mZeroDivisionError\u001b[0m: division by zero"
          ]
        }
      ]
    }
  ]
}